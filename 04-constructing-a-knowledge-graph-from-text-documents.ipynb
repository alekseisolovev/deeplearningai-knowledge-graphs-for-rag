{
 "cells": [
  {
   "cell_type": "markdown",
   "id": "54b83f29-aaac-48c5-96d0-c7306a4829c4",
   "metadata": {},
   "source": [
    "# Lesson 4: Constructing a Knowledge Graph from Text Documents"
   ]
  },
  {
   "cell_type": "markdown",
   "id": "ebcbf000-c1dc-4859-bf14-cbc84eb32053",
   "metadata": {},
   "source": [
    "### Import packages and set up Neo4j"
   ]
  },
  {
   "cell_type": "code",
   "execution_count": 1,
   "id": "8570032f-9008-4d8a-8232-59866218e01e",
   "metadata": {
    "height": 336
   },
   "outputs": [],
   "source": [
    "# Common data processing\n",
    "import json\n",
    "import os\n",
    "import textwrap\n",
    "\n",
    "# Warning control\n",
    "import warnings\n",
    "\n",
    "from dotenv import load_dotenv\n",
    "from langchain.chains import RetrievalQAWithSourcesChain\n",
    "from langchain.text_splitter import RecursiveCharacterTextSplitter\n",
    "\n",
    "# Langchain\n",
    "from langchain_community.graphs import Neo4jGraph\n",
    "from langchain_community.vectorstores import Neo4jVector\n",
    "from langchain_openai import ChatOpenAI, OpenAIEmbeddings\n",
    "\n",
    "warnings.filterwarnings(\"ignore\")"
   ]
  },
  {
   "cell_type": "code",
   "execution_count": 2,
   "id": "d4edcf01-cac6-4539-a8c3-db5b175a41b2",
   "metadata": {
    "height": 302
   },
   "outputs": [],
   "source": [
    "# Load from environment\n",
    "load_dotenv(\".env\", override=True)\n",
    "NEO4J_URI = os.getenv(\"NEO4J_URI\")\n",
    "NEO4J_USERNAME = os.getenv(\"NEO4J_USERNAME\")\n",
    "NEO4J_PASSWORD = os.getenv(\"NEO4J_PASSWORD\")\n",
    "NEO4J_DATABASE = os.getenv(\"NEO4J_DATABASE\") or \"neo4j\"\n",
    "OPENAI_API_KEY = os.getenv(\"OPENAI_API_KEY\")\n",
    "# Note the code below is unique to this course environment, and not a\n",
    "# standard part of Neo4j's integration with OpenAI. Remove if running\n",
    "# in your own environment.\n",
    "OPENAI_ENDPOINT = os.getenv(\"OPENAI_BASE_URL\") + \"/embeddings\"\n",
    "\n",
    "# Global constants\n",
    "VECTOR_INDEX_NAME = \"form_10k_chunks\"\n",
    "VECTOR_NODE_LABEL = \"Chunk\"\n",
    "VECTOR_SOURCE_PROPERTY = \"text\"\n",
    "VECTOR_EMBEDDING_PROPERTY = \"textEmbedding\""
   ]
  },
  {
   "cell_type": "markdown",
   "id": "ad8c6cb6-74ba-4d94-81d2-9bca5893c44a",
   "metadata": {},
   "source": [
    "### Take a look at a Form 10-K json file\n",
    "\n",
    "- Publicly traded companies are required to fill a form 10-K each year with the Securities and Exchange Commision (SEC)\n",
    "- You can search these filings using the SEC's [EDGAR database](https://www.sec.gov/edgar/search/)\n",
    "- For the next few lessons, you'll work with a single 10-K form for a company called [NetApp](https://www.netapp.com/)"
   ]
  },
  {
   "cell_type": "code",
   "execution_count": 3,
   "id": "d29dc84a-a51d-4f48-8dae-6c9c39565299",
   "metadata": {
    "height": 47
   },
   "outputs": [],
   "source": [
    "first_file_name = \"./data/form10k/0000950170-23-027948.json\""
   ]
  },
  {
   "cell_type": "code",
   "execution_count": 4,
   "id": "d9d6697f-e8f1-4e1a-aa6d-0d641fbc3649",
   "metadata": {
    "height": 30
   },
   "outputs": [],
   "source": [
    "first_file_as_object = json.load(open(first_file_name))"
   ]
  },
  {
   "cell_type": "code",
   "execution_count": 5,
   "id": "4d3ef32c-6f10-430c-83b4-f34e54fb45d8",
   "metadata": {
    "height": 30
   },
   "outputs": [
    {
     "data": {
      "text/plain": [
       "dict"
      ]
     },
     "execution_count": 5,
     "metadata": {},
     "output_type": "execute_result"
    }
   ],
   "source": [
    "type(first_file_as_object)"
   ]
  },
  {
   "cell_type": "code",
   "execution_count": 6,
   "id": "58bd1c0f-bca0-4f16-846a-8158967b61e8",
   "metadata": {
    "height": 47
   },
   "outputs": [
    {
     "name": "stdout",
     "output_type": "stream",
     "text": [
      "item1 <class 'str'>\n",
      "item1a <class 'str'>\n",
      "item7 <class 'str'>\n",
      "item7a <class 'str'>\n",
      "cik <class 'str'>\n",
      "cusip6 <class 'str'>\n",
      "cusip <class 'list'>\n",
      "names <class 'list'>\n",
      "source <class 'str'>\n"
     ]
    }
   ],
   "source": [
    "for k, v in first_file_as_object.items():\n",
    "    print(k, type(v))"
   ]
  },
  {
   "cell_type": "code",
   "execution_count": 7,
   "id": "e431a995-84c6-40ee-854f-8f09d7e43259",
   "metadata": {
    "height": 30
   },
   "outputs": [],
   "source": [
    "item1_text = first_file_as_object[\"item1\"]"
   ]
  },
  {
   "cell_type": "code",
   "execution_count": 8,
   "id": "aee07cd1-00c4-477b-9f05-5f0db5cef432",
   "metadata": {
    "height": 30
   },
   "outputs": [
    {
     "data": {
      "text/plain": [
       "'>Item 1.  \\nBusiness\\n\\n\\nOverview\\n\\n\\nNetApp, Inc. (NetApp, we, us or the Company) is a global cloud-led, data-centric software company. We were incorporated in 1992 and are headquartered in San Jose, California. Building on more than three decades of innovation, we give customers the freedom to manage applications and data across hybrid multicloud environments. Our portfolio of cloud services, and storage infrastructure, powered by intelligent data management software, enables applications to run faster, more reliably, and more securely, all at a lower cost.\\n\\n\\nOur opportunity is defined by the durable megatrends of data-driven digital and cloud transformations. NetApp helps organizations meet the complexities created by rapid data and cloud growth, multi-cloud management, and the adoption of next-generation technologies, such as AI, Kubernetes, and modern databases. Our modern approach to hybrid, multicloud infrastructure and data management, which we term ‘evolved cloud’, provides customers the ability to leverage data across their entire estate with simplicity, security, and sustainability which increases our relevance and value to our customers.\\n\\n\\nIn an evolved cloud state, the cloud is fully integrated into an organization’s architecture and operations. Data centers and clouds are seamlessly united and hybrid multicloud operations are simplified, with consistency and observability across environments. The key benefits NetApp brings to an organization’s hybrid multicloud envir'"
      ]
     },
     "execution_count": 8,
     "metadata": {},
     "output_type": "execute_result"
    }
   ],
   "source": [
    "item1_text[0:1500]"
   ]
  },
  {
   "cell_type": "markdown",
   "id": "bf3d09a3-25a2-4f92-b9cb-37a6c0e4c808",
   "metadata": {},
   "source": [
    "### Split Form 10-K sections into chunks\n",
    "- Set up text splitter using LangChain\n",
    "- For now, split only the text from the \"item 1\" section "
   ]
  },
  {
   "cell_type": "code",
   "execution_count": 9,
   "id": "fd3e4843-686a-40f1-97d1-b4811084d1b1",
   "metadata": {
    "height": 115
   },
   "outputs": [],
   "source": [
    "text_splitter = RecursiveCharacterTextSplitter(\n",
    "    chunk_size=2000,\n",
    "    chunk_overlap=200,\n",
    "    length_function=len,\n",
    "    is_separator_regex=False,\n",
    ")"
   ]
  },
  {
   "cell_type": "code",
   "execution_count": 10,
   "id": "5acbbf0b-6d25-46ab-9539-fb38479ff4fe",
   "metadata": {
    "height": 30
   },
   "outputs": [],
   "source": [
    "item1_text_chunks = text_splitter.split_text(item1_text)"
   ]
  },
  {
   "cell_type": "code",
   "execution_count": 11,
   "id": "c35dc351-48d7-4487-b311-7224eb880c68",
   "metadata": {
    "height": 30
   },
   "outputs": [
    {
     "data": {
      "text/plain": [
       "list"
      ]
     },
     "execution_count": 11,
     "metadata": {},
     "output_type": "execute_result"
    }
   ],
   "source": [
    "type(item1_text_chunks)"
   ]
  },
  {
   "cell_type": "code",
   "execution_count": 12,
   "id": "fc769d72-c01c-4d7b-aa3f-b12e8acd99e6",
   "metadata": {
    "height": 30
   },
   "outputs": [
    {
     "data": {
      "text/plain": [
       "254"
      ]
     },
     "execution_count": 12,
     "metadata": {},
     "output_type": "execute_result"
    }
   ],
   "source": [
    "len(item1_text_chunks)"
   ]
  },
  {
   "cell_type": "code",
   "execution_count": 13,
   "id": "af610b46-68f3-4763-9ffb-eb452dc61acf",
   "metadata": {
    "height": 30
   },
   "outputs": [
    {
     "data": {
      "text/plain": [
       "'>Item 1.  \\nBusiness\\n\\n\\nOverview\\n\\n\\nNetApp, Inc. (NetApp, we, us or the Company) is a global cloud-led, data-centric software company. We were incorporated in 1992 and are headquartered in San Jose, California. Building on more than three decades of innovation, we give customers the freedom to manage applications and data across hybrid multicloud environments. Our portfolio of cloud services, and storage infrastructure, powered by intelligent data management software, enables applications to run faster, more reliably, and more securely, all at a lower cost.\\n\\n\\nOur opportunity is defined by the durable megatrends of data-driven digital and cloud transformations. NetApp helps organizations meet the complexities created by rapid data and cloud growth, multi-cloud management, and the adoption of next-generation technologies, such as AI, Kubernetes, and modern databases. Our modern approach to hybrid, multicloud infrastructure and data management, which we term ‘evolved cloud’, provides customers the ability to leverage data across their entire estate with simplicity, security, and sustainability which increases our relevance and value to our customers.\\n\\n\\nIn an evolved cloud state, the cloud is fully integrated into an organization’s architecture and operations. Data centers and clouds are seamlessly united and hybrid multicloud operations are simplified, with consistency and observability across environments. The key benefits NetApp brings to an organization’s hybrid multicloud environment are:\\n\\n\\n•\\nOperational simplicity: NetApp’s use of open source, open architectures and APIs, microservices, and common capabilities and data services facilitate the creation of applications that can run anywhere.\\n\\n\\n•\\nFlexibility and consistency: NetApp makes moving data and applications between environments seamless through a common storage foundation across on-premises and multicloud environments.'"
      ]
     },
     "execution_count": 13,
     "metadata": {},
     "output_type": "execute_result"
    }
   ],
   "source": [
    "item1_text_chunks[0]"
   ]
  },
  {
   "cell_type": "markdown",
   "id": "accf6522-52e3-441f-b0c3-c43d754ba55a",
   "metadata": {},
   "source": [
    "- Set up helper function to chunk all sections of the Form 10-K\n",
    "- You'll limit the number of chunks in each section to 20 to speed things up"
   ]
  },
  {
   "cell_type": "code",
   "execution_count": 14,
   "id": "3ed5ec07-a825-4e87-8e30-f09efa586a12",
   "metadata": {
    "height": 489
   },
   "outputs": [],
   "source": [
    "def split_form10k_data_from_file(file):\n",
    "    chunks_with_metadata = []  # use this to accumlate chunk records\n",
    "    file_as_object = json.load(open(file))  # open the json file\n",
    "    for item in [\"item1\", \"item1a\", \"item7\", \"item7a\"]:  # pull these keys from the json\n",
    "        print(f\"Processing {item} from {file}\")\n",
    "        item_text = file_as_object[item]  # grab the text of the item\n",
    "        item_text_chunks = text_splitter.split_text(\n",
    "            item_text\n",
    "        )  # split the text into chunks\n",
    "        chunk_seq_id = 0\n",
    "        for chunk in item_text_chunks[:20]:  # only take the first 20 chunks\n",
    "            form_id = file[\n",
    "                file.rindex(\"/\") + 1 : file.rindex(\".\")\n",
    "            ]  # extract form id from file name\n",
    "            # finally, construct a record with metadata and the chunk text\n",
    "            chunks_with_metadata.append(\n",
    "                {\n",
    "                    \"text\": chunk,\n",
    "                    # metadata from looping...\n",
    "                    \"f10kItem\": item,\n",
    "                    \"chunkSeqId\": chunk_seq_id,\n",
    "                    # constructed metadata...\n",
    "                    \"formId\": f\"{form_id}\",  # pulled from the filename\n",
    "                    \"chunkId\": f\"{form_id}-{item}-chunk{chunk_seq_id:04d}\",\n",
    "                    # metadata from file...\n",
    "                    \"names\": file_as_object[\"names\"],\n",
    "                    \"cik\": file_as_object[\"cik\"],\n",
    "                    \"cusip6\": file_as_object[\"cusip6\"],\n",
    "                    \"source\": file_as_object[\"source\"],\n",
    "                }\n",
    "            )\n",
    "            chunk_seq_id += 1\n",
    "        print(f\"\\tSplit into {chunk_seq_id} chunks\")\n",
    "    return chunks_with_metadata"
   ]
  },
  {
   "cell_type": "code",
   "execution_count": 15,
   "id": "6696ea15-abf7-4f05-8fd2-8e91e5fc540c",
   "metadata": {
    "height": 30
   },
   "outputs": [
    {
     "name": "stdout",
     "output_type": "stream",
     "text": [
      "Processing item1 from ./data/form10k/0000950170-23-027948.json\n",
      "\tSplit into 20 chunks\n",
      "Processing item1a from ./data/form10k/0000950170-23-027948.json\n",
      "\tSplit into 1 chunks\n",
      "Processing item7 from ./data/form10k/0000950170-23-027948.json\n",
      "\tSplit into 1 chunks\n",
      "Processing item7a from ./data/form10k/0000950170-23-027948.json\n",
      "\tSplit into 1 chunks\n"
     ]
    }
   ],
   "source": [
    "first_file_chunks = split_form10k_data_from_file(first_file_name)"
   ]
  },
  {
   "cell_type": "code",
   "execution_count": 16,
   "id": "d8b42f97-911f-495d-8176-a10879d2aae1",
   "metadata": {
    "height": 30
   },
   "outputs": [
    {
     "data": {
      "text/plain": [
       "{'text': '>Item 1.  \\nBusiness\\n\\n\\nOverview\\n\\n\\nNetApp, Inc. (NetApp, we, us or the Company) is a global cloud-led, data-centric software company. We were incorporated in 1992 and are headquartered in San Jose, California. Building on more than three decades of innovation, we give customers the freedom to manage applications and data across hybrid multicloud environments. Our portfolio of cloud services, and storage infrastructure, powered by intelligent data management software, enables applications to run faster, more reliably, and more securely, all at a lower cost.\\n\\n\\nOur opportunity is defined by the durable megatrends of data-driven digital and cloud transformations. NetApp helps organizations meet the complexities created by rapid data and cloud growth, multi-cloud management, and the adoption of next-generation technologies, such as AI, Kubernetes, and modern databases. Our modern approach to hybrid, multicloud infrastructure and data management, which we term ‘evolved cloud’, provides customers the ability to leverage data across their entire estate with simplicity, security, and sustainability which increases our relevance and value to our customers.\\n\\n\\nIn an evolved cloud state, the cloud is fully integrated into an organization’s architecture and operations. Data centers and clouds are seamlessly united and hybrid multicloud operations are simplified, with consistency and observability across environments. The key benefits NetApp brings to an organization’s hybrid multicloud environment are:\\n\\n\\n•\\nOperational simplicity: NetApp’s use of open source, open architectures and APIs, microservices, and common capabilities and data services facilitate the creation of applications that can run anywhere.\\n\\n\\n•\\nFlexibility and consistency: NetApp makes moving data and applications between environments seamless through a common storage foundation across on-premises and multicloud environments.',\n",
       " 'f10kItem': 'item1',\n",
       " 'chunkSeqId': 0,\n",
       " 'formId': '0000950170-23-027948',\n",
       " 'chunkId': '0000950170-23-027948-item1-chunk0000',\n",
       " 'names': ['Netapp Inc', 'NETAPP INC'],\n",
       " 'cik': '1002047',\n",
       " 'cusip6': '64110D',\n",
       " 'source': 'https://www.sec.gov/Archives/edgar/data/1002047/000095017023027948/0000950170-23-027948-index.htm'}"
      ]
     },
     "execution_count": 16,
     "metadata": {},
     "output_type": "execute_result"
    }
   ],
   "source": [
    "first_file_chunks[0]"
   ]
  },
  {
   "cell_type": "markdown",
   "id": "58952e6c-7e9c-44eb-b52b-bb11245738a4",
   "metadata": {},
   "source": [
    "### Create graph nodes using text chunks"
   ]
  },
  {
   "cell_type": "code",
   "execution_count": 17,
   "id": "968783b2-5c17-46cc-abfd-b6b5dfffe3bb",
   "metadata": {
    "height": 234
   },
   "outputs": [],
   "source": [
    "merge_chunk_node_query = \"\"\"\n",
    "MERGE(mergedChunk:Chunk {chunkId: $chunkParam.chunkId})\n",
    "    ON CREATE SET \n",
    "        mergedChunk.names = $chunkParam.names,\n",
    "        mergedChunk.formId = $chunkParam.formId, \n",
    "        mergedChunk.cik = $chunkParam.cik, \n",
    "        mergedChunk.cusip6 = $chunkParam.cusip6, \n",
    "        mergedChunk.source = $chunkParam.source, \n",
    "        mergedChunk.f10kItem = $chunkParam.f10kItem, \n",
    "        mergedChunk.chunkSeqId = $chunkParam.chunkSeqId, \n",
    "        mergedChunk.text = $chunkParam.text\n",
    "RETURN mergedChunk\n",
    "\"\"\""
   ]
  },
  {
   "cell_type": "markdown",
   "id": "34efd2c9-ad31-440a-92c5-9394465950f9",
   "metadata": {},
   "source": [
    "- Set up connection to graph instance using LangChain"
   ]
  },
  {
   "cell_type": "code",
   "execution_count": 18,
   "id": "f3f43dab-155e-4172-959b-e05968c0c6a8",
   "metadata": {
    "height": 64
   },
   "outputs": [],
   "source": [
    "kg = Neo4jGraph(\n",
    "    url=NEO4J_URI,\n",
    "    username=NEO4J_USERNAME,\n",
    "    password=NEO4J_PASSWORD,\n",
    "    database=NEO4J_DATABASE,\n",
    ")"
   ]
  },
  {
   "cell_type": "markdown",
   "id": "ddb150bf-1f77-4a5b-be0d-23ab86e32385",
   "metadata": {},
   "source": [
    "- Create a single chunk node for now"
   ]
  },
  {
   "cell_type": "code",
   "execution_count": 19,
   "id": "6abdc4a7-8fb9-4cd9-8a79-8066ad67f618",
   "metadata": {
    "height": 47
   },
   "outputs": [
    {
     "data": {
      "text/plain": [
       "[{'mergedChunk': {'formId': '0000950170-23-027948',\n",
       "   'f10kItem': 'item1',\n",
       "   'names': ['Netapp Inc', 'NETAPP INC'],\n",
       "   'textEmbedding': [-0.017047271132469177,\n",
       "    -0.018504302948713303,\n",
       "    0.016186298802495003,\n",
       "    -0.026080867275595665,\n",
       "    -0.007232175674289465,\n",
       "    0.013159645721316338,\n",
       "    -0.004407520871609449,\n",
       "    -0.013000696897506714,\n",
       "    -0.003174011129885912,\n",
       "    -0.03679667413234711,\n",
       "    0.01593462936580181,\n",
       "    0.01377557311207056,\n",
       "    0.013894784264266491,\n",
       "    -0.013292103074491024,\n",
       "    0.002677295822650194,\n",
       "    0.004533355589956045,\n",
       "    0.015073656104505062,\n",
       "    -0.02951151505112648,\n",
       "    -0.015166375786066055,\n",
       "    -0.02136538363993168,\n",
       "    -0.03133942931890488,\n",
       "    0.010782035067677498,\n",
       "    0.0001975478371605277,\n",
       "    -0.006142713129520416,\n",
       "    -0.015497519634664059,\n",
       "    -0.011000589467585087,\n",
       "    0.004030017182230949,\n",
       "    -0.0156962051987648,\n",
       "    0.019550716504454613,\n",
       "    -0.004530044272542,\n",
       "    0.00858986470848322,\n",
       "    -0.020252741873264313,\n",
       "    -0.008000428788363934,\n",
       "    -0.006295039318501949,\n",
       "    -0.008106394670903683,\n",
       "    0.00420883484184742,\n",
       "    0.002114351838827133,\n",
       "    -0.015947874635457993,\n",
       "    0.02604113146662712,\n",
       "    -0.011941037140786648,\n",
       "    0.013629869557917118,\n",
       "    -0.015298833139240742,\n",
       "    -0.007689153775572777,\n",
       "    0.003480318933725357,\n",
       "    -0.015603485517203808,\n",
       "    0.008218983188271523,\n",
       "    -0.014027241617441177,\n",
       "    0.007768628187477589,\n",
       "    0.014278911054134369,\n",
       "    0.01482198666781187,\n",
       "    0.004076377488672733,\n",
       "    0.02892870269715786,\n",
       "    -0.030120819807052612,\n",
       "    -0.01370934396982193,\n",
       "    0.008755436167120934,\n",
       "    -0.0039902799762785435,\n",
       "    -0.028504839166998863,\n",
       "    0.00604668166488409,\n",
       "    0.004725418984889984,\n",
       "    -0.013947767205536366,\n",
       "    0.0023262836039066315,\n",
       "    0.021895213052630424,\n",
       "    -0.018650006502866745,\n",
       "    -0.0004400070174597204,\n",
       "    -0.03727352246642113,\n",
       "    -0.03303488343954086,\n",
       "    -0.030995039269328117,\n",
       "    0.009477329440414906,\n",
       "    -0.013590132817626,\n",
       "    0.020054055377840996,\n",
       "    0.032822951674461365,\n",
       "    0.03814774006605148,\n",
       "    0.013576886616647243,\n",
       "    -0.0024719866923987865,\n",
       "    -0.011490682139992714,\n",
       "    -0.006867917720228434,\n",
       "    -0.0025183469988405704,\n",
       "    0.004867810755968094,\n",
       "    -0.0067453947849571705,\n",
       "    0.02427944727241993,\n",
       "    -0.01592138409614563,\n",
       "    -0.016186298802495003,\n",
       "    0.022795923054218292,\n",
       "    -0.020742833614349365,\n",
       "    0.024319184944033623,\n",
       "    0.009762112982571125,\n",
       "    -0.001958714332431555,\n",
       "    0.012941091321408749,\n",
       "    0.012245689518749714,\n",
       "    0.0028296217788010836,\n",
       "    0.017365168780088425,\n",
       "    0.014689529314637184,\n",
       "    0.0163982305675745,\n",
       "    0.008404424414038658,\n",
       "    -0.015855154022574425,\n",
       "    0.042571816593408585,\n",
       "    0.01000053621828556,\n",
       "    0.02058388479053974,\n",
       "    0.00802029762417078,\n",
       "    -0.02578946202993393,\n",
       "    0.003983657341450453,\n",
       "    0.01684858463704586,\n",
       "    -0.026902103796601295,\n",
       "    -0.01266955304890871,\n",
       "    -0.02360391430556774,\n",
       "    -0.010775412432849407,\n",
       "    0.014013996347784996,\n",
       "    -0.017378414049744606,\n",
       "    0.03520718589425087,\n",
       "    -0.0003888867504429072,\n",
       "    -0.011662877164781094,\n",
       "    -0.003818085417151451,\n",
       "    0.0018693055026233196,\n",
       "    -0.02360391430556774,\n",
       "    0.003291567089036107,\n",
       "    -0.01894141174852848,\n",
       "    0.016000857576727867,\n",
       "    0.006973883602768183,\n",
       "    0.011000589467585087,\n",
       "    -0.005076431203633547,\n",
       "    0.010914492420852184,\n",
       "    0.037591420114040375,\n",
       "    0.010033650323748589,\n",
       "    -0.0159081369638443,\n",
       "    -0.004460503812879324,\n",
       "    0.00010948434646707028,\n",
       "    -0.02601463906466961,\n",
       "    -0.03356471285223961,\n",
       "    0.01671612821519375,\n",
       "    -0.008808419108390808,\n",
       "    0.0179082453250885,\n",
       "    0.010033650323748589,\n",
       "    0.002725311554968357,\n",
       "    -0.005079742521047592,\n",
       "    -0.02381584607064724,\n",
       "    0.0017285695066675544,\n",
       "    -0.010437645949423313,\n",
       "    0.0006705657579004765,\n",
       "    -0.023537686094641685,\n",
       "    -0.017709558829665184,\n",
       "    0.022941626608371735,\n",
       "    0.015179621987044811,\n",
       "    -0.008079903200268745,\n",
       "    -0.013722590170800686,\n",
       "    -0.005940715782344341,\n",
       "    0.01870298944413662,\n",
       "    0.021193189546465874,\n",
       "    0.0350482352077961,\n",
       "    0.02112695947289467,\n",
       "    0.00802692025899887,\n",
       "    0.014398123137652874,\n",
       "    -0.018517548218369484,\n",
       "    -0.017722804099321365,\n",
       "    -0.00746397627517581,\n",
       "    0.009596540592610836,\n",
       "    -0.001624259282834828,\n",
       "    -0.005136036779731512,\n",
       "    0.005503606051206589,\n",
       "    -0.011404585093259811,\n",
       "    -0.0017318809404969215,\n",
       "    -0.0035465476103127003,\n",
       "    0.022398551926016808,\n",
       "    0.00020686125208158046,\n",
       "    -0.026650434359908104,\n",
       "    -0.008788550272583961,\n",
       "    0.022915136069059372,\n",
       "    0.008788550272583961,\n",
       "    -0.014080224558711052,\n",
       "    0.006861295085400343,\n",
       "    -0.010768788866698742,\n",
       "    -0.00017033197218552232,\n",
       "    0.012152968905866146,\n",
       "    -0.03486279398202896,\n",
       "    0.0071328324265778065,\n",
       "    0.0006846393225714564,\n",
       "    0.006165893282741308,\n",
       "    0.014914706349372864,\n",
       "    0.027842551469802856,\n",
       "    -0.024729803204536438,\n",
       "    -0.01894141174852848,\n",
       "    0.04090285301208496,\n",
       "    -0.003102815244346857,\n",
       "    0.009801849722862244,\n",
       "    0.0023925122804939747,\n",
       "    0.009881324134767056,\n",
       "    -0.0012045347830280662,\n",
       "    0.022517763078212738,\n",
       "    0.007748759817332029,\n",
       "    0.00812626350671053,\n",
       "    0.006003633141517639,\n",
       "    0.0011374781606718898,\n",
       "    0.0013908030232414603,\n",
       "    -0.025484809651970863,\n",
       "    -0.004347915295511484,\n",
       "    -0.6324047446250916,\n",
       "    -0.010907869786024094,\n",
       "    0.01150392834097147,\n",
       "    -0.03825370594859123,\n",
       "    -0.02218662016093731,\n",
       "    0.007112964056432247,\n",
       "    0.027975009754300117,\n",
       "    -0.0029157192911952734,\n",
       "    0.0013717622496187687,\n",
       "    0.02335224486887455,\n",
       "    -0.011338355951011181,\n",
       "    0.009384608827531338,\n",
       "    -0.0101131247356534,\n",
       "    -0.009272020310163498,\n",
       "    -0.021166697144508362,\n",
       "    -0.01696779765188694,\n",
       "    -0.009762112982571125,\n",
       "    -0.014649791643023491,\n",
       "    0.016901567578315735,\n",
       "    -0.02139187417924404,\n",
       "    -0.037379488348960876,\n",
       "    0.020769326016306877,\n",
       "    0.0022898579481989145,\n",
       "    -0.045353423804044724,\n",
       "    -0.0027633931022137403,\n",
       "    0.013186137191951275,\n",
       "    0.025670250877738,\n",
       "    0.02255750074982643,\n",
       "    -0.014331893995404243,\n",
       "    0.0054274434223771095,\n",
       "    -0.030518192797899246,\n",
       "    0.02079581655561924,\n",
       "    0.028690280392766,\n",
       "    -0.012994074262678623,\n",
       "    0.04492956027388573,\n",
       "    -0.0018974527483806014,\n",
       "    -0.013378200121223927,\n",
       "    0.04437324032187462,\n",
       "    0.03631982579827309,\n",
       "    0.015206113457679749,\n",
       "    -0.008967367932200432,\n",
       "    -0.0067155915312469006,\n",
       "    0.011239012703299522,\n",
       "    -0.0013510658172890544,\n",
       "    -0.006841426249593496,\n",
       "    0.007603056728839874,\n",
       "    0.015179621987044811,\n",
       "    -0.01825263351202011,\n",
       "    0.005887732841074467,\n",
       "    0.007437484804540873,\n",
       "    0.008146132342517376,\n",
       "    -0.02034546062350273,\n",
       "    -0.0032021584920585155,\n",
       "    -0.02046467363834381,\n",
       "    0.0020795816089957952,\n",
       "    0.0009992257691919804,\n",
       "    0.005997010041028261,\n",
       "    -0.03197522461414337,\n",
       "    0.03205469995737076,\n",
       "    0.010583348572254181,\n",
       "    0.006043370347470045,\n",
       "    -0.010179353877902031,\n",
       "    -0.04190953075885773,\n",
       "    -0.021670036017894745,\n",
       "    -0.041194260120391846,\n",
       "    0.007271912880241871,\n",
       "    -0.0016598572256043553,\n",
       "    -0.011404585093259811,\n",
       "    0.029829412698745728,\n",
       "    -0.03820072486996651,\n",
       "    0.005722160916775465,\n",
       "    0.006026813294738531,\n",
       "    -0.008854779414832592,\n",
       "    -0.0013518936466425657,\n",
       "    0.039207398891448975,\n",
       "    0.023497948423027992,\n",
       "    0.023511193692684174,\n",
       "    0.01940501295030117,\n",
       "    -0.018914921209216118,\n",
       "    0.010272073559463024,\n",
       "    0.002127597574144602,\n",
       "    -0.028557822108268738,\n",
       "    0.016345247626304626,\n",
       "    -0.03626684471964836,\n",
       "    0.01696779765188694,\n",
       "    0.02752465382218361,\n",
       "    0.00662287138402462,\n",
       "    -0.0027617374435067177,\n",
       "    0.008007051423192024,\n",
       "    -0.01521935872733593,\n",
       "    0.022822415456175804,\n",
       "    0.010053519159555435,\n",
       "    -0.009457460604608059,\n",
       "    -0.02786904387176037,\n",
       "    -0.005374460481107235,\n",
       "    0.021352138370275497,\n",
       "    -0.025405336171388626,\n",
       "    0.000283127767033875,\n",
       "    -0.022252848371863365,\n",
       "    -0.0033644186332821846,\n",
       "    0.0022368747740983963,\n",
       "    -0.017245957627892494,\n",
       "    0.002308070659637451,\n",
       "    0.011722482740879059,\n",
       "    0.02139187417924404,\n",
       "    0.022504517808556557,\n",
       "    0.0015596862649545074,\n",
       "    0.010669445618987083,\n",
       "    0.038863010704517365,\n",
       "    -0.01651744171977043,\n",
       "    -0.013477543368935585,\n",
       "    -0.022941626608371735,\n",
       "    -0.03369716927409172,\n",
       "    0.00665267463773489,\n",
       "    -0.0002905784931499511,\n",
       "    -0.029458532109856606,\n",
       "    0.034332964569330215,\n",
       "    -0.004549912642687559,\n",
       "    0.009033597074449062,\n",
       "    -0.015020672231912613,\n",
       "    -0.003056455170735717,\n",
       "    -0.007106340955942869,\n",
       "    0.006967260967940092,\n",
       "    0.0074772220104932785,\n",
       "    -0.015762433409690857,\n",
       "    0.011530419811606407,\n",
       "    0.005579769145697355,\n",
       "    -0.027365704998373985,\n",
       "    -0.027577636763453484,\n",
       "    -0.014941197820007801,\n",
       "    -0.007497090380638838,\n",
       "    -0.017034025862812996,\n",
       "    0.029670463874936104,\n",
       "    0.002874326193705201,\n",
       "    0.046519048511981964,\n",
       "    0.024928487837314606,\n",
       "    -0.006083107553422451,\n",
       "    -0.01823938824236393,\n",
       "    0.007636170834302902,\n",
       "    -0.03708808124065399,\n",
       "    -0.029485024511814117,\n",
       "    -0.010623086243867874,\n",
       "    0.021312400698661804,\n",
       "    -0.011199275963008404,\n",
       "    -0.011762219481170177,\n",
       "    0.011868185363709927,\n",
       "    -0.014411368407309055,\n",
       "    -0.009722375310957432,\n",
       "    -0.01894141174852848,\n",
       "    0.005003579426556826,\n",
       "    -0.02882273681461811,\n",
       "    0.004139294847846031,\n",
       "    -0.015404799021780491,\n",
       "    0.025630513206124306,\n",
       "    0.018504302948713303,\n",
       "    -0.0029604234732687473,\n",
       "    -0.006612937431782484,\n",
       "    -0.037564925849437714,\n",
       "    -0.018093684688210487,\n",
       "    -0.02752465382218361,\n",
       "    -0.014676283113658428,\n",
       "    0.01659691520035267,\n",
       "    -0.015444536693394184,\n",
       "    0.0008659404702484608,\n",
       "    -0.01659691520035267,\n",
       "    -0.011073441244661808,\n",
       "    -0.018888428807258606,\n",
       "    0.011252258904278278,\n",
       "    0.01706051640212536,\n",
       "    -0.014941197820007801,\n",
       "    4.8222784243989736e-05,\n",
       "    -0.012060249224305153,\n",
       "    0.001512498245574534,\n",
       "    0.004460503812879324,\n",
       "    -0.005914224311709404,\n",
       "    -0.007530204951763153,\n",
       "    0.0008998826961033046,\n",
       "    -0.015961119905114174,\n",
       "    0.035260166972875595,\n",
       "    -0.015457781963050365,\n",
       "    0.024332430213689804,\n",
       "    -0.015033918432891369,\n",
       "    -0.0018113553524017334,\n",
       "    -0.0004118598299100995,\n",
       "    0.0360284224152565,\n",
       "    0.00046235922491177917,\n",
       "    0.04416130855679512,\n",
       "    0.018623514100909233,\n",
       "    -0.0035962192341685295,\n",
       "    -0.004612830001860857,\n",
       "    -0.014623300172388554,\n",
       "    0.03242557868361473,\n",
       "    0.009894570335745811,\n",
       "    0.010099879465997219,\n",
       "    -0.019113607704639435,\n",
       "    -0.0073248958215117455,\n",
       "    -0.006112910341471434,\n",
       "    0.011583402752876282,\n",
       "    0.015709450468420982,\n",
       "    0.01510014757514,\n",
       "    -0.015987612307071686,\n",
       "    -0.0013800408923998475,\n",
       "    0.010709183290600777,\n",
       "    -0.005546655040234327,\n",
       "    0.011954283341765404,\n",
       "    -0.00015925936168059707,\n",
       "    0.00642418535426259,\n",
       "    -0.017643330618739128,\n",
       "    0.004000214394181967,\n",
       "    0.010119747370481491,\n",
       "    0.03547209873795509,\n",
       "    -0.006526839919388294,\n",
       "    0.0021872033830732107,\n",
       "    -0.02845185622572899,\n",
       "    -0.00450024101883173,\n",
       "    0.016000857576727867,\n",
       "    0.012013888917863369,\n",
       "    0.010437645949423313,\n",
       "    -0.026902103796601295,\n",
       "    0.023087330162525177,\n",
       "    0.029299583286046982,\n",
       "    -0.011894677765667439,\n",
       "    0.0033892544452100992,\n",
       "    -0.01708700880408287,\n",
       "    -0.007828233763575554,\n",
       "    0.004235326312482357,\n",
       "    0.011782088316977024,\n",
       "    0.038757044821977615,\n",
       "    -0.006934146396815777,\n",
       "    -0.03115398809313774,\n",
       "    0.015643222257494926,\n",
       "    0.02405427023768425,\n",
       "    -0.004248572047799826,\n",
       "    0.009702506475150585,\n",
       "    0.020371953025460243,\n",
       "    0.012477490119636059,\n",
       "    0.005453934893012047,\n",
       "    -0.017934735864400864,\n",
       "    0.01810692995786667,\n",
       "    -0.011695991270244122,\n",
       "    0.008510390296578407,\n",
       "    0.024782786145806313,\n",
       "    0.03427998349070549,\n",
       "    -0.015735942870378494,\n",
       "    0.022478025406599045,\n",
       "    0.0038280198350548744,\n",
       "    0.014729266054928303,\n",
       "    0.01800096407532692,\n",
       "    -0.01907387003302574,\n",
       "    -0.033299800008535385,\n",
       "    -0.021166697144508362,\n",
       "    -0.009205791167914867,\n",
       "    0.015431290492415428,\n",
       "    -0.02124617248773575,\n",
       "    -0.0078481025993824,\n",
       "    -0.01952422596514225,\n",
       "    -0.0101131247356534,\n",
       "    0.005884421523660421,\n",
       "    0.02845185622572899,\n",
       "    0.00946408323943615,\n",
       "    0.00947070587426424,\n",
       "    -0.014305402524769306,\n",
       "    0.013894784264266491,\n",
       "    -0.007152701262384653,\n",
       "    0.03115398809313774,\n",
       "    -0.025842444971203804,\n",
       "    0.01266955304890871,\n",
       "    -0.015828663483262062,\n",
       "    -0.00363264512270689,\n",
       "    -0.02439865842461586,\n",
       "    0.005910912994295359,\n",
       "    -0.023431720212101936,\n",
       "    0.027816060930490494,\n",
       "    -0.008656092919409275,\n",
       "    -0.015563747845590115,\n",
       "    0.01837184652686119,\n",
       "    -0.004417455289512873,\n",
       "    -0.009093202650547028,\n",
       "    -0.00878192763775587,\n",
       "    0.00755007378757,\n",
       "    -0.013252366334199905,\n",
       "    -0.013894784264266491,\n",
       "    0.000534796854481101,\n",
       "    0.004702238831669092,\n",
       "    0.009762112982571125,\n",
       "    0.00248192111030221,\n",
       "    -0.019828878343105316,\n",
       "    0.00680168904364109,\n",
       "    -0.012497358955442905,\n",
       "    0.017126746475696564,\n",
       "    -0.01486172340810299,\n",
       "    0.002313037868589163,\n",
       "    -0.0006312424666248262,\n",
       "    0.010470760054886341,\n",
       "    -0.0043677836656570435,\n",
       "    0.021100468933582306,\n",
       "    0.027710095047950745,\n",
       "    -0.013086793944239616,\n",
       "    0.0031392411328852177,\n",
       "    -0.00557645782828331,\n",
       "    0.007563319522887468,\n",
       "    -0.004083000123500824,\n",
       "    0.004755221772938967,\n",
       "    0.005599637981504202,\n",
       "    0.038306690752506256,\n",
       "    -0.005195642821490765,\n",
       "    -0.004778401926159859,\n",
       "    -0.0006589757394976914,\n",
       "    -0.0024123808834701777,\n",
       "    -0.008437538519501686,\n",
       "    0.007404370233416557,\n",
       "    -0.02148459479212761,\n",
       "    -0.028398873284459114,\n",
       "    0.007887840270996094,\n",
       "    0.008669339120388031,\n",
       "    -0.016941305249929428,\n",
       "    -0.02078257128596306,\n",
       "    -0.0025034453719854355,\n",
       "    0.018742727115750313,\n",
       "    -0.0006767747108824551,\n",
       "    0.017153237015008926,\n",
       "    -0.04614816978573799,\n",
       "    -0.045379914343357086,\n",
       "    0.027114035561680794,\n",
       "    0.07062630355358124,\n",
       "    0.014212681911885738,\n",
       "    -0.009040219709277153,\n",
       "    0.020358707755804062,\n",
       "    -0.02638551965355873,\n",
       "    0.007980559952557087,\n",
       "    0.0017798966728150845,\n",
       "    -0.017630083486437798,\n",
       "    0.013119908981025219,\n",
       "    -0.012450998649001122,\n",
       "    -0.005493672098964453,\n",
       "    0.007801742758601904,\n",
       "    0.007046735379844904,\n",
       "    -0.030836090445518494,\n",
       "    0.006225499324500561,\n",
       "    0.006579822860658169,\n",
       "    0.000766597397159785,\n",
       "    0.002182236174121499,\n",
       "    -0.006122844759374857,\n",
       "    -0.021352138370275497,\n",
       "    -0.00038060813676565886,\n",
       "    -0.0007454869919456542,\n",
       "    0.007516959216445684,\n",
       "    0.04156514257192612,\n",
       "    0.03210768103599548,\n",
       "    0.002705442951992154,\n",
       "    0.012802010402083397,\n",
       "    0.020650113001465797,\n",
       "    0.014517334289848804,\n",
       "    -0.02616034261882305,\n",
       "    -0.009397855028510094,\n",
       "    0.012152968905866146,\n",
       "    0.002980292309075594,\n",
       "    0.0025332483928650618,\n",
       "    -0.020530901849269867,\n",
       "    0.0006502831820398569,\n",
       "    0.0013816965511068702,\n",
       "    0.007762005552649498,\n",
       "    -0.0009892914677038789,\n",
       "    -0.00045449455501511693,\n",
       "    -0.000314586388412863,\n",
       "    -0.008391178213059902,\n",
       "    0.021683281287550926,\n",
       "    -0.01719297468662262,\n",
       "    0.0070997183211147785,\n",
       "    -0.0065533313900232315,\n",
       "    0.020703095942735672,\n",
       "    0.03253154456615448,\n",
       "    -0.011252258904278278,\n",
       "    -0.016689635813236237,\n",
       "    4.061682921019383e-05,\n",
       "    -0.012292049825191498,\n",
       "    -0.04959206283092499,\n",
       "    0.004175720736384392,\n",
       "    0.002837900537997484,\n",
       "    0.009768735617399216,\n",
       "    0.039790213108062744,\n",
       "    -0.007079849485307932,\n",
       "    -0.005076431203633547,\n",
       "    -0.0436844602227211,\n",
       "    -0.014782248996198177,\n",
       "    -0.014742512255907059,\n",
       "    -0.007609679363667965,\n",
       "    -0.024901997298002243,\n",
       "    0.0007566630956716835,\n",
       "    -0.0247562937438488,\n",
       "    -0.016994288191199303,\n",
       "    0.0037617909256368876,\n",
       "    -0.013252366334199905,\n",
       "    0.0006672543240711093,\n",
       "    -0.002221973380073905,\n",
       "    -0.019630191847682,\n",
       "    -0.03541911765933037,\n",
       "    0.028902212157845497,\n",
       "    0.03507472947239876,\n",
       "    0.003837954020127654,\n",
       "    -0.005566523410379887,\n",
       "    0.0065599544905126095,\n",
       "    -0.011815202422440052,\n",
       "    0.02789553441107273,\n",
       "    0.012609947472810745,\n",
       "    -0.007967314682900906,\n",
       "    -0.00539764016866684,\n",
       "    -0.04882380738854408,\n",
       "    0.008119640871882439,\n",
       "    -0.018610268831253052,\n",
       "    -0.0018742725951597095,\n",
       "    -0.005169151350855827,\n",
       "    -0.032716985791921616,\n",
       "    0.00849052146077156,\n",
       "    -0.002599477069452405,\n",
       "    -0.03473033756017685,\n",
       "    0.03867756947875023,\n",
       "    0.014133207499980927,\n",
       "    0.0006167549290694296,\n",
       "    0.018888428807258606,\n",
       "    0.019908351823687553,\n",
       "    0.0001438404869986698,\n",
       "    -0.0047055501490831375,\n",
       "    -0.025842444971203804,\n",
       "    0.015153130516409874,\n",
       "    -0.010934361256659031,\n",
       "    -0.014345140196383,\n",
       "    -0.029908888041973114,\n",
       "    0.034332964569330215,\n",
       "    0.011868185363709927,\n",
       "    0.0006622871733270586,\n",
       "    -0.003433958860114217,\n",
       "    0.019590454176068306,\n",
       "    -0.013987504877150059,\n",
       "    0.004695615731179714,\n",
       "    0.001741815241985023,\n",
       "    0.009073333814740181,\n",
       "    -0.025948410853743553,\n",
       "    -0.0036359564401209354,\n",
       "    0.020385198295116425,\n",
       "    -0.0035101219546049833,\n",
       "    0.015325324609875679,\n",
       "    0.005175773985683918,\n",
       "    -0.005043316632509232,\n",
       "    0.018769217655062675,\n",
       "    -0.026650434359908104,\n",
       "    0.018385091796517372,\n",
       "    0.0005964723532088101,\n",
       "    0.0020381887443363667,\n",
       "    0.011848317459225655,\n",
       "    0.0031872568652033806,\n",
       "    -0.004407520871609449,\n",
       "    -0.029935378581285477,\n",
       "    -0.0032187155447900295,\n",
       "    0.00012924947077408433,\n",
       "    0.009563426487147808,\n",
       "    -0.01463654637336731,\n",
       "    -0.005172462668269873,\n",
       "    -0.018848692998290062,\n",
       "    -0.00952368974685669,\n",
       "    -0.00287763774394989,\n",
       "    0.017842015251517296,\n",
       "    -0.030014853924512863,\n",
       "    -0.039339855313301086,\n",
       "    0.0017434709006920457,\n",
       "    -0.01068269181996584,\n",
       "    0.01927255652844906,\n",
       "    -0.006596379913389683,\n",
       "    -0.012795387767255306,\n",
       "    -0.02012028358876705,\n",
       "    -0.006828180514276028,\n",
       "    -0.011927791871130466,\n",
       "    -0.011556911282241344,\n",
       "    0.025365598499774933,\n",
       "    -0.009828341193497181,\n",
       "    -0.020862044766545296,\n",
       "    -0.01312653161585331,\n",
       "    0.013855047523975372,\n",
       "    -0.020027562975883484,\n",
       "    0.007026866544038057,\n",
       "    0.0029951937031000853,\n",
       "    -0.03359120339155197,\n",
       "    0.05579106882214546,\n",
       "    0.017855262383818626,\n",
       "    0.007013620808720589,\n",
       "    0.015855154022574425,\n",
       "    0.01341793779283762,\n",
       "    0.019563961774110794,\n",
       "    -0.017961228266358376,\n",
       "    -0.01568295992910862,\n",
       "    -0.018411582335829735,\n",
       "    -0.01511339284479618,\n",
       "    0.0017202908638864756,\n",
       "    -0.0016449557151645422,\n",
       "    -0.007854725234210491,\n",
       "    0.003708807984367013,\n",
       "    -0.003573039313778281,\n",
       "    0.003778348211199045,\n",
       "    0.005165840033441782,\n",
       "    0.022570746019482613,\n",
       "    -0.0024057580158114433,\n",
       "    -0.027975009754300117,\n",
       "    -0.04334007203578949,\n",
       "    -0.034094542264938354,\n",
       "    0.00045408064033836126,\n",
       "    0.004013460129499435,\n",
       "    -0.006742083467543125,\n",
       "    0.02230583131313324,\n",
       "    -0.047234319150447845,\n",
       "    -0.001364311552606523,\n",
       "    0.020279232412576675,\n",
       "    0.03555157408118248,\n",
       "    0.024954980239272118,\n",
       "    -0.00212263036519289,\n",
       "    0.022862153127789497,\n",
       "    -0.01237152423709631,\n",
       "    -0.00015336087381001562,\n",
       "    0.01986861415207386,\n",
       "    0.002693853108212352,\n",
       "    -0.02323303371667862,\n",
       "    0.006497037131339312,\n",
       "    -0.033644188195466995,\n",
       "    -0.03345874696969986,\n",
       "    0.020888537168502808,\n",
       "    -0.002909096423536539,\n",
       "    0.00589766725897789,\n",
       "    -0.007490467745810747,\n",
       "    0.004983711056411266,\n",
       "    -0.008358064107596874,\n",
       "    0.00841766968369484,\n",
       "    -0.013510658405721188,\n",
       "    -0.03708808124065399,\n",
       "    0.027114035561680794,\n",
       "    -0.013643115758895874,\n",
       "    -0.0029157192911952734,\n",
       "    -0.010907869786024094,\n",
       "    -0.0374324694275856,\n",
       "    -0.029670463874936104,\n",
       "    0.02602788433432579,\n",
       "    0.01079528033733368,\n",
       "    0.005997010041028261,\n",
       "    0.0010546923149377108,\n",
       "    -0.033856119960546494,\n",
       "    -0.018795710057020187,\n",
       "    0.02985590510070324,\n",
       "    0.0027617374435067177,\n",
       "    0.0189281664788723,\n",
       "    -0.0063910712487995625,\n",
       "    0.04336656257510185,\n",
       "    0.01708700880408287,\n",
       "    -0.009616409428417683,\n",
       "    -0.029432041570544243,\n",
       "    -0.02031897008419037,\n",
       "    -0.01917983591556549,\n",
       "    0.0007558352081105113,\n",
       "    0.025180157274007797,\n",
       "    0.020133528858423233,\n",
       "    -0.0022070719860494137,\n",
       "    -0.013411315158009529,\n",
       "    -4.8248653911286965e-05,\n",
       "    -0.027975009754300117,\n",
       "    0.006450676824897528,\n",
       "    -0.01324574276804924,\n",
       "    0.02786904387176037,\n",
       "    0.019484488293528557,\n",
       "    0.014027241617441177,\n",
       "    -0.010715805925428867,\n",
       "    -0.015749188140034676,\n",
       "    -0.028054483234882355,\n",
       "    0.030889073386788368,\n",
       "    0.002142498968169093,\n",
       "    0.016901567578315735,\n",
       "    -0.007709022611379623,\n",
       "    -0.01916659064590931,\n",
       "    -0.001890829880721867,\n",
       "    0.011848317459225655,\n",
       "    -0.01446435134857893,\n",
       "    0.030597666278481483,\n",
       "    0.016358492895960808,\n",
       "    -0.01614656113088131,\n",
       "    0.008967367932200432,\n",
       "    0.0054208203218877316,\n",
       "    0.015563747845590115,\n",
       "    -0.016437966376543045,\n",
       "    -0.03022678568959236,\n",
       "    0.0262663085013628,\n",
       "    0.0008274450083263218,\n",
       "    0.015351816080510616,\n",
       "    0.0028925391379743814,\n",
       "    0.014888214878737926,\n",
       "    -0.01647770404815674,\n",
       "    -0.001875928370282054,\n",
       "    -0.007040112279355526,\n",
       "    0.023895321413874626,\n",
       "    -0.02300785668194294,\n",
       "    -0.01756385527551174,\n",
       "    0.017365168780088425,\n",
       "    0.02160380780696869,\n",
       "    0.008788550272583961,\n",
       "    -0.014543825760483742,\n",
       "    -0.002119318814948201,\n",
       "    -0.0074772220104932785,\n",
       "    -0.0020315658766776323,\n",
       "    -0.014451106078922749,\n",
       "    0.008444161154329777,\n",
       "    -0.003775036893785,\n",
       "    -0.017577100545167923,\n",
       "    -0.031524866819381714,\n",
       "    0.011676122434437275,\n",
       "    -0.014795495197176933,\n",
       "    0.004013460129499435,\n",
       "    0.0018461254658177495,\n",
       "    0.013206006027758121,\n",
       "    -0.025153666734695435,\n",
       "    -0.026690172031521797,\n",
       "    -0.0023842337541282177,\n",
       "    0.008808419108390808,\n",
       "    -0.003082946641370654,\n",
       "    -0.0010406187502667308,\n",
       "    0.012258934788405895,\n",
       "    -0.009848210029304028,\n",
       "    0.02149784192442894,\n",
       "    -0.007768628187477589,\n",
       "    0.011364847421646118,\n",
       "    0.018212895840406418,\n",
       "    0.012272180989384651,\n",
       "    -0.030518192797899246,\n",
       "    0.039445821195840836,\n",
       "    -0.0025895428843796253,\n",
       "    0.004172408953309059,\n",
       "    0.0202262494713068,\n",
       "    0.002776638837531209,\n",
       "    -0.022239603102207184,\n",
       "    -0.012907976284623146,\n",
       "    -0.009146185591816902,\n",
       "    0.017285695299506187,\n",
       "    -0.010775412432849407,\n",
       "    0.0029620793648064137,\n",
       "    0.01051049679517746,\n",
       "    0.009848210029304028,\n",
       "    -0.013464298099279404,\n",
       "    -0.014543825760483742,\n",
       "    -0.0069076549261808395,\n",
       "    0.014808740466833115,\n",
       "    -0.015312079340219498,\n",
       "    0.0010546923149377108,\n",
       "    -0.002399135148152709,\n",
       "    -0.008934253826737404,\n",
       "    0.014212681911885738,\n",
       "    0.002667361404746771,\n",
       "    0.0012326819123700261,\n",
       "    -0.01743139699101448,\n",
       "    -0.02882273681461811,\n",
       "    -0.044558681547641754,\n",
       "    0.01360337808728218,\n",
       "    0.0038710683584213257,\n",
       "    -0.005887732841074467,\n",
       "    0.009444214403629303,\n",
       "    0.02148459479212761,\n",
       "    -0.018080439418554306,\n",
       "    -0.010874754749238491,\n",
       "    -0.0078481025993824,\n",
       "    0.009265397675335407,\n",
       "    0.013159645721316338,\n",
       "    -0.020477918907999992,\n",
       "    -0.0022269405890256166,\n",
       "    0.029538007453083992,\n",
       "    -0.0012707634596154094,\n",
       "    0.0002243497729068622,\n",
       "    -0.02462383732199669,\n",
       "    -0.03825370594859123,\n",
       "    -0.015259096398949623,\n",
       "    -0.033988576382398605,\n",
       "    0.013497412204742432,\n",
       "    -0.0023378736805170774,\n",
       "    0.03133942931890488,\n",
       "    0.008642847649753094,\n",
       "    -0.013139776885509491,\n",
       "    -0.012643061578273773,\n",
       "    -0.007536828052252531,\n",
       "    -0.0378563329577446,\n",
       "    -0.019590454176068306,\n",
       "    0.003947231452912092,\n",
       "    0.024001287296414375,\n",
       "    0.018676497042179108,\n",
       "    0.017947981134057045,\n",
       "    0.01883544586598873,\n",
       "    0.02163029834628105,\n",
       "    0.014384876936674118,\n",
       "    0.015775680541992188,\n",
       "    -0.02786904387176037,\n",
       "    0.024690065532922745,\n",
       "    -0.009881324134767056,\n",
       "    -0.030624158680438995,\n",
       "    0.020862044766545296,\n",
       "    -0.016570424661040306,\n",
       "    -0.04752572625875473,\n",
       "    -0.016080332919955254,\n",
       "    -0.010080010630190372,\n",
       "    -0.014278911054134369,\n",
       "    0.004427389707416296,\n",
       "    0.015881646424531937,\n",
       "    0.01197415217757225,\n",
       "    -0.002582920016720891,\n",
       "    -0.006874540820717812,\n",
       "    0.021458104252815247,\n",
       "    -0.003606153652071953,\n",
       "    -0.0016259149415418506,\n",
       "    0.01719297468662262,\n",
       "    -0.03888950124382973,\n",
       "    -0.009298511780798435,\n",
       "    0.011139670386910439,\n",
       "    0.008146132342517376,\n",
       "    -0.007391124498099089,\n",
       "    0.0070930952206254005,\n",
       "    0.01463654637336731,\n",
       "    0.005308231338858604,\n",
       "    0.019630191847682,\n",
       "    -0.011636385694146156,\n",
       "    0.003235272830352187,\n",
       "    -0.012477490119636059,\n",
       "    0.004934039432555437,\n",
       "    0.006437431089580059,\n",
       "    0.017113499343395233,\n",
       "    0.004321423824876547,\n",
       "    0.029882395640015602,\n",
       "    0.007709022611379623,\n",
       "    -0.024822521954774857,\n",
       "    -0.0065665771253407,\n",
       "    0.009013728238642216,\n",
       "    -0.014345140196383,\n",
       "    0.0019438128219917417,\n",
       "    0.010139616206288338,\n",
       "    0.010477382689714432,\n",
       "    -0.0034571390133351088,\n",
       "    0.01592138409614563,\n",
       "    0.017590347677469254,\n",
       "    0.00589766725897789,\n",
       "    -0.02544507198035717,\n",
       "    0.02104748599231243,\n",
       "    0.0043280464597046375,\n",
       "    -0.016133315861225128,\n",
       "    -0.028557822108268738,\n",
       "    -0.015206113457679749,\n",
       "    -0.021087223663926125,\n",
       "    -0.01788175292313099,\n",
       "    -0.004844630602747202,\n",
       "    0.0014106716262176633,\n",
       "    0.02521989494562149,\n",
       "    -0.0067685749381780624,\n",
       "    0.03184276819229126,\n",
       "    0.0015663091326132417,\n",
       "    -0.01752411760389805,\n",
       "    0.008980614133179188,\n",
       "    -0.008543504402041435,\n",
       "    -0.03314084932208061,\n",
       "    -0.010762166231870651,\n",
       "    0.015351816080510616,\n",
       "    0.014769003726541996,\n",
       "    0.008179246447980404,\n",
       "    0.20896483957767487,\n",
       "    0.023405227810144424,\n",
       "    0.0009338248637504876,\n",
       "    0.01788175292313099,\n",
       "    0.004331357777118683,\n",
       "    0.0005799151840619743,\n",
       "    0.01615980640053749,\n",
       "    0.01040453091263771,\n",
       "    0.015378307551145554,\n",
       "    0.012709290720522404,\n",
       "    -0.00877530500292778,\n",
       "    0.026796137914061546,\n",
       "    0.024332430213689804,\n",
       "    0.0038081512320786715,\n",
       "    0.005536720622330904,\n",
       "    -0.03616087883710861,\n",
       "    -0.0320282056927681,\n",
       "    0.009848210029304028,\n",
       "    -0.013974258676171303,\n",
       "    0.025723233819007874,\n",
       "    0.010358171537518501,\n",
       "    -0.02242504246532917,\n",
       "    0.0009288577130064368,\n",
       "    -0.004748598672449589,\n",
       "    0.01904737949371338,\n",
       "    0.011212521232664585,\n",
       "    -0.0048810564912855625,\n",
       "    0.012013888917863369,\n",
       "    0.041061803698539734,\n",
       "    0.013815309852361679,\n",
       "    -0.014384876936674118,\n",
       "    0.0032783213537186384,\n",
       "    0.0036458908580243587,\n",
       "    -0.015629976987838745,\n",
       "    0.004596272949129343,\n",
       "    -0.01651744171977043,\n",
       "    0.023974794894456863,\n",
       "    -0.0024041023571044207,\n",
       "    -0.0023064150009304285,\n",
       "    0.002513379789888859,\n",
       "    0.010318433865904808,\n",
       "    -0.008868024684488773,\n",
       "    -0.003960477188229561,\n",
       "    0.011298619210720062,\n",
       "    0.009801849722862244,\n",
       "    0.005215511191636324,\n",
       "    ...],\n",
       "   'cik': '1002047',\n",
       "   'cusip6': '64110D',\n",
       "   'text': '>Item 1.  \\nBusiness\\n\\n\\nOverview\\n\\n\\nNetApp, Inc. (NetApp, we, us or the Company) is a global cloud-led, data-centric software company. We were incorporated in 1992 and are headquartered in San Jose, California. Building on more than three decades of innovation, we give customers the freedom to manage applications and data across hybrid multicloud environments. Our portfolio of cloud services, and storage infrastructure, powered by intelligent data management software, enables applications to run faster, more reliably, and more securely, all at a lower cost.\\n\\n\\nOur opportunity is defined by the durable megatrends of data-driven digital and cloud transformations. NetApp helps organizations meet the complexities created by rapid data and cloud growth, multi-cloud management, and the adoption of next-generation technologies, such as AI, Kubernetes, and modern databases. Our modern approach to hybrid, multicloud infrastructure and data management, which we term ‘evolved cloud’, provides customers the ability to leverage data across their entire estate with simplicity, security, and sustainability which increases our relevance and value to our customers.\\n\\n\\nIn an evolved cloud state, the cloud is fully integrated into an organization’s architecture and operations. Data centers and clouds are seamlessly united and hybrid multicloud operations are simplified, with consistency and observability across environments. The key benefits NetApp brings to an organization’s hybrid multicloud environment are:\\n\\n\\n•\\nOperational simplicity: NetApp’s use of open source, open architectures and APIs, microservices, and common capabilities and data services facilitate the creation of applications that can run anywhere.\\n\\n\\n•\\nFlexibility and consistency: NetApp makes moving data and applications between environments seamless through a common storage foundation across on-premises and multicloud environments.',\n",
       "   'source': 'https://www.sec.gov/Archives/edgar/data/1002047/000095017023027948/0000950170-23-027948-index.htm',\n",
       "   'chunkId': '0000950170-23-027948-item1-chunk0000',\n",
       "   'chunkSeqId': 0}}]"
      ]
     },
     "execution_count": 19,
     "metadata": {},
     "output_type": "execute_result"
    }
   ],
   "source": [
    "kg.query(merge_chunk_node_query, params={\"chunkParam\": first_file_chunks[0]})"
   ]
  },
  {
   "cell_type": "markdown",
   "id": "4b368dd5-6e50-46db-b500-29993895631e",
   "metadata": {},
   "source": [
    "- Create a uniqueness constraint to avoid duplicate chunks"
   ]
  },
  {
   "cell_type": "code",
   "execution_count": 20,
   "id": "f8269f83-eb19-4a3f-979c-8b41b1e9f750",
   "metadata": {
    "height": 98
   },
   "outputs": [
    {
     "data": {
      "text/plain": [
       "[]"
      ]
     },
     "execution_count": 20,
     "metadata": {},
     "output_type": "execute_result"
    }
   ],
   "source": [
    "kg.query(\n",
    "    \"\"\"\n",
    "CREATE CONSTRAINT unique_chunk IF NOT EXISTS \n",
    "    FOR (c:Chunk) REQUIRE c.chunkId IS UNIQUE\n",
    "\"\"\"\n",
    ")"
   ]
  },
  {
   "cell_type": "code",
   "execution_count": 21,
   "id": "4e207e5f-eb17-452c-9c65-4846d3bbf840",
   "metadata": {
    "height": 30
   },
   "outputs": [
    {
     "data": {
      "text/plain": [
       "[{'id': 5,\n",
       "  'name': 'form_10k_chunks',\n",
       "  'state': 'ONLINE',\n",
       "  'populationPercent': 100.0,\n",
       "  'type': 'VECTOR',\n",
       "  'entityType': 'NODE',\n",
       "  'labelsOrTypes': ['Chunk'],\n",
       "  'properties': ['textEmbedding'],\n",
       "  'indexProvider': 'vector-1.0',\n",
       "  'owningConstraint': None,\n",
       "  'lastRead': neo4j.time.DateTime(2025, 8, 9, 14, 29, 27, 329000000, tzinfo=<UTC>),\n",
       "  'readCount': 18},\n",
       " {'id': 1,\n",
       "  'name': 'index_343aff4e',\n",
       "  'state': 'ONLINE',\n",
       "  'populationPercent': 100.0,\n",
       "  'type': 'LOOKUP',\n",
       "  'entityType': 'NODE',\n",
       "  'labelsOrTypes': None,\n",
       "  'properties': None,\n",
       "  'indexProvider': 'token-lookup-1.0',\n",
       "  'owningConstraint': None,\n",
       "  'lastRead': neo4j.time.DateTime(2025, 8, 9, 14, 29, 22, 4000000, tzinfo=<UTC>),\n",
       "  'readCount': 13},\n",
       " {'id': 2,\n",
       "  'name': 'index_f7700477',\n",
       "  'state': 'ONLINE',\n",
       "  'populationPercent': 100.0,\n",
       "  'type': 'LOOKUP',\n",
       "  'entityType': 'RELATIONSHIP',\n",
       "  'labelsOrTypes': None,\n",
       "  'properties': None,\n",
       "  'indexProvider': 'token-lookup-1.0',\n",
       "  'owningConstraint': None,\n",
       "  'lastRead': None,\n",
       "  'readCount': 0},\n",
       " {'id': 3,\n",
       "  'name': 'unique_chunk',\n",
       "  'state': 'ONLINE',\n",
       "  'populationPercent': 100.0,\n",
       "  'type': 'RANGE',\n",
       "  'entityType': 'NODE',\n",
       "  'labelsOrTypes': ['Chunk'],\n",
       "  'properties': ['chunkId'],\n",
       "  'indexProvider': 'range-1.0',\n",
       "  'owningConstraint': 'unique_chunk',\n",
       "  'lastRead': neo4j.time.DateTime(2025, 8, 9, 14, 29, 21, 50000000, tzinfo=<UTC>),\n",
       "  'readCount': 91}]"
      ]
     },
     "execution_count": 21,
     "metadata": {},
     "output_type": "execute_result"
    }
   ],
   "source": [
    "kg.query(\"SHOW INDEXES\")"
   ]
  },
  {
   "cell_type": "markdown",
   "id": "1b5c465e-c43f-422d-a3a1-17705a1019d5",
   "metadata": {},
   "source": [
    "- Loop through and create nodes for all chunks\n",
    "- Should create 23 nodes because you set a limit of 20 chunks in the text splitting function above"
   ]
  },
  {
   "cell_type": "code",
   "execution_count": 22,
   "id": "e0e4f598-a6b8-419f-b247-4eecd1f3d98a",
   "metadata": {
    "height": 166
   },
   "outputs": [
    {
     "name": "stdout",
     "output_type": "stream",
     "text": [
      "Creating `:Chunk` node for chunk ID 0000950170-23-027948-item1-chunk0000\n",
      "Creating `:Chunk` node for chunk ID 0000950170-23-027948-item1-chunk0001\n",
      "Creating `:Chunk` node for chunk ID 0000950170-23-027948-item1-chunk0002\n",
      "Creating `:Chunk` node for chunk ID 0000950170-23-027948-item1-chunk0003\n",
      "Creating `:Chunk` node for chunk ID 0000950170-23-027948-item1-chunk0004\n",
      "Creating `:Chunk` node for chunk ID 0000950170-23-027948-item1-chunk0005\n",
      "Creating `:Chunk` node for chunk ID 0000950170-23-027948-item1-chunk0006\n",
      "Creating `:Chunk` node for chunk ID 0000950170-23-027948-item1-chunk0007\n",
      "Creating `:Chunk` node for chunk ID 0000950170-23-027948-item1-chunk0008\n",
      "Creating `:Chunk` node for chunk ID 0000950170-23-027948-item1-chunk0009\n",
      "Creating `:Chunk` node for chunk ID 0000950170-23-027948-item1-chunk0010\n",
      "Creating `:Chunk` node for chunk ID 0000950170-23-027948-item1-chunk0011\n",
      "Creating `:Chunk` node for chunk ID 0000950170-23-027948-item1-chunk0012\n",
      "Creating `:Chunk` node for chunk ID 0000950170-23-027948-item1-chunk0013\n",
      "Creating `:Chunk` node for chunk ID 0000950170-23-027948-item1-chunk0014\n",
      "Creating `:Chunk` node for chunk ID 0000950170-23-027948-item1-chunk0015\n",
      "Creating `:Chunk` node for chunk ID 0000950170-23-027948-item1-chunk0016\n",
      "Creating `:Chunk` node for chunk ID 0000950170-23-027948-item1-chunk0017\n",
      "Creating `:Chunk` node for chunk ID 0000950170-23-027948-item1-chunk0018\n",
      "Creating `:Chunk` node for chunk ID 0000950170-23-027948-item1-chunk0019\n",
      "Creating `:Chunk` node for chunk ID 0000950170-23-027948-item1a-chunk0000\n",
      "Creating `:Chunk` node for chunk ID 0000950170-23-027948-item7-chunk0000\n",
      "Creating `:Chunk` node for chunk ID 0000950170-23-027948-item7a-chunk0000\n",
      "Created 23 nodes\n"
     ]
    }
   ],
   "source": [
    "node_count = 0\n",
    "for chunk in first_file_chunks:\n",
    "    print(f\"Creating `:Chunk` node for chunk ID {chunk['chunkId']}\")\n",
    "    kg.query(merge_chunk_node_query, params={\"chunkParam\": chunk})\n",
    "    node_count += 1\n",
    "print(f\"Created {node_count} nodes\")"
   ]
  },
  {
   "cell_type": "code",
   "execution_count": 23,
   "id": "5d820104-51be-4709-b531-2bdc9b6d5eec",
   "metadata": {
    "height": 81
   },
   "outputs": [
    {
     "data": {
      "text/plain": [
       "[{'nodeCount': 23}]"
      ]
     },
     "execution_count": 23,
     "metadata": {},
     "output_type": "execute_result"
    }
   ],
   "source": [
    "kg.query(\n",
    "    \"\"\"\n",
    "         MATCH (n)\n",
    "         RETURN count(n) as nodeCount\n",
    "         \"\"\"\n",
    ")"
   ]
  },
  {
   "cell_type": "markdown",
   "id": "c46b6bfa-9e07-4963-9b3f-50cdba4468bc",
   "metadata": {},
   "source": [
    "### Create a vector index"
   ]
  },
  {
   "cell_type": "code",
   "execution_count": 24,
   "id": "79355493-3790-4b05-898b-a3eaaea87155",
   "metadata": {
    "height": 149
   },
   "outputs": [
    {
     "data": {
      "text/plain": [
       "[]"
      ]
     },
     "execution_count": 24,
     "metadata": {},
     "output_type": "execute_result"
    }
   ],
   "source": [
    "kg.query(\n",
    "    \"\"\"\n",
    "         CREATE VECTOR INDEX `form_10k_chunks` IF NOT EXISTS\n",
    "          FOR (c:Chunk) ON (c.textEmbedding) \n",
    "          OPTIONS { indexConfig: {\n",
    "            `vector.dimensions`: 1536,\n",
    "            `vector.similarity_function`: 'cosine'    \n",
    "         }}\n",
    "\"\"\"\n",
    ")"
   ]
  },
  {
   "cell_type": "code",
   "execution_count": 25,
   "id": "507b42c0-a90c-4f97-8c8a-b8a4ec70f9d1",
   "metadata": {
    "height": 30
   },
   "outputs": [
    {
     "data": {
      "text/plain": [
       "[{'id': 5,\n",
       "  'name': 'form_10k_chunks',\n",
       "  'state': 'ONLINE',\n",
       "  'populationPercent': 100.0,\n",
       "  'type': 'VECTOR',\n",
       "  'entityType': 'NODE',\n",
       "  'labelsOrTypes': ['Chunk'],\n",
       "  'properties': ['textEmbedding'],\n",
       "  'indexProvider': 'vector-1.0',\n",
       "  'owningConstraint': None,\n",
       "  'lastRead': neo4j.time.DateTime(2025, 8, 9, 14, 29, 27, 329000000, tzinfo=<UTC>),\n",
       "  'readCount': 18},\n",
       " {'id': 1,\n",
       "  'name': 'index_343aff4e',\n",
       "  'state': 'ONLINE',\n",
       "  'populationPercent': 100.0,\n",
       "  'type': 'LOOKUP',\n",
       "  'entityType': 'NODE',\n",
       "  'labelsOrTypes': None,\n",
       "  'properties': None,\n",
       "  'indexProvider': 'token-lookup-1.0',\n",
       "  'owningConstraint': None,\n",
       "  'lastRead': neo4j.time.DateTime(2025, 8, 9, 14, 29, 22, 4000000, tzinfo=<UTC>),\n",
       "  'readCount': 13},\n",
       " {'id': 2,\n",
       "  'name': 'index_f7700477',\n",
       "  'state': 'ONLINE',\n",
       "  'populationPercent': 100.0,\n",
       "  'type': 'LOOKUP',\n",
       "  'entityType': 'RELATIONSHIP',\n",
       "  'labelsOrTypes': None,\n",
       "  'properties': None,\n",
       "  'indexProvider': 'token-lookup-1.0',\n",
       "  'owningConstraint': None,\n",
       "  'lastRead': None,\n",
       "  'readCount': 0},\n",
       " {'id': 3,\n",
       "  'name': 'unique_chunk',\n",
       "  'state': 'ONLINE',\n",
       "  'populationPercent': 100.0,\n",
       "  'type': 'RANGE',\n",
       "  'entityType': 'NODE',\n",
       "  'labelsOrTypes': ['Chunk'],\n",
       "  'properties': ['chunkId'],\n",
       "  'indexProvider': 'range-1.0',\n",
       "  'owningConstraint': 'unique_chunk',\n",
       "  'lastRead': neo4j.time.DateTime(2025, 8, 9, 14, 29, 21, 50000000, tzinfo=<UTC>),\n",
       "  'readCount': 91}]"
      ]
     },
     "execution_count": 25,
     "metadata": {},
     "output_type": "execute_result"
    }
   ],
   "source": [
    "kg.query(\"SHOW INDEXES\")"
   ]
  },
  {
   "cell_type": "markdown",
   "id": "2b9e379f-69d1-41de-8443-c6f5660603ab",
   "metadata": {},
   "source": [
    "### Calculate embedding vectors for chunks and populate index\n",
    "- This query calculates the embedding vector and stores it as a property called `textEmbedding` on each `Chunk` node."
   ]
  },
  {
   "cell_type": "code",
   "execution_count": 26,
   "id": "43f2d4f2-ea0b-4731-8b29-a858e05f5b36",
   "metadata": {
    "height": 217
   },
   "outputs": [
    {
     "data": {
      "text/plain": [
       "[]"
      ]
     },
     "execution_count": 26,
     "metadata": {},
     "output_type": "execute_result"
    }
   ],
   "source": [
    "kg.query(\n",
    "    \"\"\"\n",
    "    MATCH (chunk:Chunk) WHERE chunk.textEmbedding IS NULL\n",
    "    WITH chunk, genai.vector.encode(\n",
    "      chunk.text, \n",
    "      \"OpenAI\", \n",
    "      {\n",
    "        token: $openAiApiKey, \n",
    "        endpoint: $openAiEndpoint\n",
    "      }) AS vector\n",
    "    CALL db.create.setNodeVectorProperty(chunk, \"textEmbedding\", vector)\n",
    "    \"\"\",\n",
    "    params={\"openAiApiKey\": OPENAI_API_KEY, \"openAiEndpoint\": OPENAI_ENDPOINT},\n",
    ")"
   ]
  },
  {
   "cell_type": "code",
   "execution_count": 27,
   "id": "59550c1c-5d7f-4e87-b5fc-ae7a4edb3731",
   "metadata": {
    "height": 47
   },
   "outputs": [
    {
     "name": "stdout",
     "output_type": "stream",
     "text": [
      "Node properties are the following:\n",
      "Chunk {textEmbedding: LIST, f10kItem: STRING, chunkSeqId: INTEGER, text: STRING, cik: STRING, cusip6: STRING, names: LIST, formId: STRING, source: STRING, chunkId: STRING}\n",
      "Relationship properties are the following:\n",
      "\n",
      "The relationships are the following:\n",
      "\n"
     ]
    }
   ],
   "source": [
    "kg.refresh_schema()\n",
    "print(kg.schema)"
   ]
  },
  {
   "cell_type": "markdown",
   "id": "4d5286ca-106c-49ec-8f60-f142db8bb680",
   "metadata": {},
   "source": [
    "### Use similarity search to find relevant chunks"
   ]
  },
  {
   "cell_type": "markdown",
   "id": "a3ab0d7b-7be2-4a2b-8b2c-2ea8a35350bd",
   "metadata": {},
   "source": [
    "- Setup a help function to perform similarity search using the vector index"
   ]
  },
  {
   "cell_type": "code",
   "execution_count": 28,
   "id": "50153721-d565-47ac-b288-d8b9798d9479",
   "metadata": {
    "height": 251
   },
   "outputs": [],
   "source": [
    "def neo4j_vector_search(question):\n",
    "    \"\"\"Search for similar nodes using the Neo4j vector index\"\"\"\n",
    "    vector_search_query = \"\"\"\n",
    "    WITH genai.vector.encode(\n",
    "      $question, \n",
    "      \"OpenAI\", \n",
    "      {\n",
    "        token: $openAiApiKey,\n",
    "        endpoint: $openAiEndpoint\n",
    "      }) AS question_embedding\n",
    "    CALL db.index.vector.queryNodes($index_name, $top_k, question_embedding) yield node, score\n",
    "    RETURN score, node.text AS text\n",
    "  \"\"\"\n",
    "    similar = kg.query(\n",
    "        vector_search_query,\n",
    "        params={\n",
    "            \"question\": question,\n",
    "            \"openAiApiKey\": OPENAI_API_KEY,\n",
    "            \"openAiEndpoint\": OPENAI_ENDPOINT,\n",
    "            \"index_name\": VECTOR_INDEX_NAME,\n",
    "            \"top_k\": 10,\n",
    "        },\n",
    "    )\n",
    "    return similar"
   ]
  },
  {
   "cell_type": "markdown",
   "id": "aba0f292-59e8-432c-b521-2a77613b08c6",
   "metadata": {},
   "source": [
    "- Ask a question!"
   ]
  },
  {
   "cell_type": "code",
   "execution_count": 29,
   "id": "6ae9975a-d26f-4477-92ac-8dcfb3119c47",
   "metadata": {
    "height": 64
   },
   "outputs": [],
   "source": [
    "search_results = neo4j_vector_search(\"In a single sentence, tell me about Netapp.\")"
   ]
  },
  {
   "cell_type": "code",
   "execution_count": 30,
   "id": "a2370fb5-9990-42e3-9ac2-0edf03969705",
   "metadata": {
    "height": 30
   },
   "outputs": [
    {
     "data": {
      "text/plain": [
       "{'score': 0.9357360601425171,\n",
       " 'text': '>Item 1.  \\nBusiness\\n\\n\\nOverview\\n\\n\\nNetApp, Inc. (NetApp, we, us or the Company) is a global cloud-led, data-centric software company. We were incorporated in 1992 and are headquartered in San Jose, California. Building on more than three decades of innovation, we give customers the freedom to manage applications and data across hybrid multicloud environments. Our portfolio of cloud services, and storage infrastructure, powered by intelligent data management software, enables applications to run faster, more reliably, and more securely, all at a lower cost.\\n\\n\\nOur opportunity is defined by the durable megatrends of data-driven digital and cloud transformations. NetApp helps organizations meet the complexities created by rapid data and cloud growth, multi-cloud management, and the adoption of next-generation technologies, such as AI, Kubernetes, and modern databases. Our modern approach to hybrid, multicloud infrastructure and data management, which we term ‘evolved cloud’, provides customers the ability to leverage data across their entire estate with simplicity, security, and sustainability which increases our relevance and value to our customers.\\n\\n\\nIn an evolved cloud state, the cloud is fully integrated into an organization’s architecture and operations. Data centers and clouds are seamlessly united and hybrid multicloud operations are simplified, with consistency and observability across environments. The key benefits NetApp brings to an organization’s hybrid multicloud environment are:\\n\\n\\n•\\nOperational simplicity: NetApp’s use of open source, open architectures and APIs, microservices, and common capabilities and data services facilitate the creation of applications that can run anywhere.\\n\\n\\n•\\nFlexibility and consistency: NetApp makes moving data and applications between environments seamless through a common storage foundation across on-premises and multicloud environments.'}"
      ]
     },
     "execution_count": 30,
     "metadata": {},
     "output_type": "execute_result"
    }
   ],
   "source": [
    "search_results[0]"
   ]
  },
  {
   "cell_type": "markdown",
   "id": "5777c9ea-ca26-4690-8487-6aec06db1d4c",
   "metadata": {},
   "source": [
    "### Set up a LangChain RAG workflow to chat with the form"
   ]
  },
  {
   "cell_type": "code",
   "execution_count": 31,
   "id": "17cdab04-4db1-4776-bd89-f4f87b57bde4",
   "metadata": {
    "height": 200
   },
   "outputs": [],
   "source": [
    "neo4j_vector_store = Neo4jVector.from_existing_graph(\n",
    "    embedding=OpenAIEmbeddings(),\n",
    "    url=NEO4J_URI,\n",
    "    username=NEO4J_USERNAME,\n",
    "    password=NEO4J_PASSWORD,\n",
    "    index_name=VECTOR_INDEX_NAME,\n",
    "    node_label=VECTOR_NODE_LABEL,\n",
    "    text_node_properties=[VECTOR_SOURCE_PROPERTY],\n",
    "    embedding_node_property=VECTOR_EMBEDDING_PROPERTY,\n",
    ")"
   ]
  },
  {
   "cell_type": "code",
   "execution_count": 32,
   "id": "2a7abbd6-bf4e-4fc3-9c20-c4246ed3ec4e",
   "metadata": {
    "height": 30
   },
   "outputs": [],
   "source": [
    "retriever = neo4j_vector_store.as_retriever()"
   ]
  },
  {
   "cell_type": "markdown",
   "id": "7b38dd23-fa0f-4304-849a-80043e34a1e7",
   "metadata": {},
   "source": [
    "- Set up a RetrievalQAWithSourcesChain to carry out question answering\n",
    "- You can check out the LangChain documentation for this chain [here](https://api.python.langchain.com/en/latest/chains/langchain.chains.qa_with_sources.retrieval.RetrievalQAWithSourcesChain.html)"
   ]
  },
  {
   "cell_type": "code",
   "execution_count": 33,
   "id": "47b45848-112f-4e4f-9c76-cf2bda9c6f8e",
   "metadata": {
    "height": 98
   },
   "outputs": [],
   "source": [
    "chain = RetrievalQAWithSourcesChain.from_chain_type(\n",
    "    ChatOpenAI(temperature=0), chain_type=\"stuff\", retriever=retriever\n",
    ")"
   ]
  },
  {
   "cell_type": "code",
   "execution_count": 34,
   "id": "a5aee157-c777-4c9a-949b-c55005d19c41",
   "metadata": {
    "height": 98
   },
   "outputs": [],
   "source": [
    "def prettychain(question: str) -> str:\n",
    "    \"\"\"Pretty print the chain's response to a question\"\"\"\n",
    "    response = chain(\n",
    "        {\"question\": question},\n",
    "        return_only_outputs=True,\n",
    "    )\n",
    "    print(textwrap.fill(response[\"answer\"], 60))"
   ]
  },
  {
   "cell_type": "markdown",
   "id": "cbb96301-66a2-47e9-87a7-13d926f85019",
   "metadata": {},
   "source": [
    "- Ask a question!"
   ]
  },
  {
   "cell_type": "code",
   "execution_count": 35,
   "id": "1b234d29-7fc0-483f-bbfa-459617be96c1",
   "metadata": {
    "height": 30
   },
   "outputs": [],
   "source": [
    "question = \"What is Netapp's primary business?\""
   ]
  },
  {
   "cell_type": "code",
   "execution_count": 36,
   "id": "2a2228aa-2af0-44cd-99b0-bffdc72de62b",
   "metadata": {
    "height": 30
   },
   "outputs": [
    {
     "name": "stdout",
     "output_type": "stream",
     "text": [
      "NetApp's primary business is enterprise storage and data\n",
      "management, cloud storage, and cloud operations.\n"
     ]
    }
   ],
   "source": [
    "prettychain(question)"
   ]
  },
  {
   "cell_type": "code",
   "execution_count": 37,
   "id": "e2fa5b5b-5ec6-4903-bb53-acf8bd5f49c3",
   "metadata": {
    "height": 30
   },
   "outputs": [
    {
     "name": "stdout",
     "output_type": "stream",
     "text": [
      "Netapp is headquartered in San Jose, California.\n"
     ]
    }
   ],
   "source": [
    "prettychain(\"Where is Netapp headquartered?\")"
   ]
  },
  {
   "cell_type": "code",
   "execution_count": 38,
   "id": "758bdd8e-90ca-4267-aef2-db33b28937b6",
   "metadata": {
    "height": 81
   },
   "outputs": [
    {
     "name": "stdout",
     "output_type": "stream",
     "text": [
      "NetApp is a global cloud-led, data-centric software company\n",
      "that provides customers with the freedom to manage\n",
      "applications and data across hybrid multicloud environments.\n"
     ]
    }
   ],
   "source": [
    "prettychain(\n",
    "    \"\"\"\n",
    "    Tell me about Netapp. \n",
    "    Limit your answer to a single sentence.\n",
    "\"\"\"\n",
    ")"
   ]
  },
  {
   "cell_type": "code",
   "execution_count": 39,
   "id": "10715705-25a7-4c21-88e2-bc540c72dacb",
   "metadata": {
    "height": 81
   },
   "outputs": [
    {
     "name": "stdout",
     "output_type": "stream",
     "text": [
      "Apple is a global cloud-led, data-centric software company\n",
      "headquartered in San Jose, California, that provides\n",
      "customers with the freedom to manage applications and data\n",
      "across hybrid multicloud environments.\n"
     ]
    }
   ],
   "source": [
    "prettychain(\n",
    "    \"\"\"\n",
    "    Tell me about Apple. \n",
    "    Limit your answer to a single sentence.\n",
    "\"\"\"\n",
    ")"
   ]
  },
  {
   "cell_type": "code",
   "execution_count": 40,
   "id": "53300764-c93b-4127-9bbd-9e17428d066c",
   "metadata": {
    "height": 98
   },
   "outputs": [
    {
     "name": "stdout",
     "output_type": "stream",
     "text": [
      "I don't know.\n"
     ]
    }
   ],
   "source": [
    "prettychain(\n",
    "    \"\"\"\n",
    "    Tell me about Apple. \n",
    "    Limit your answer to a single sentence.\n",
    "    If you are unsure about the answer, say you don't know.\n",
    "\"\"\"\n",
    ")"
   ]
  },
  {
   "cell_type": "markdown",
   "id": "c1ab2124-77c4-496b-b951-44c9466fe941",
   "metadata": {},
   "source": [
    "### Ask you own question!\n",
    "- Add your own question to the call to prettychain below to find out more about NetApp\n",
    "- Here is NetApp's website if you want some inspiration: https://www.netapp.com/"
   ]
  },
  {
   "cell_type": "code",
   "execution_count": 41,
   "id": "f238eaec-7080-4e45-80f0-5b37e2340387",
   "metadata": {
    "height": 64
   },
   "outputs": [
    {
     "name": "stdout",
     "output_type": "stream",
     "text": [
      "I don't know.\n"
     ]
    }
   ],
   "source": [
    "prettychain(\n",
    "    \"\"\"\n",
    "    ADD YOUR OWN QUESTION HERE\n",
    "\"\"\"\n",
    ")"
   ]
  },
  {
   "cell_type": "code",
   "execution_count": null,
   "id": "3e163fea-9868-45b7-a120-402cd324863a",
   "metadata": {},
   "outputs": [],
   "source": []
  }
 ],
 "metadata": {
  "kernelspec": {
   "display_name": "Python 3 (ipykernel)",
   "language": "python",
   "name": "python3"
  },
  "language_info": {
   "codemirror_mode": {
    "name": "ipython",
    "version": 3
   },
   "file_extension": ".py",
   "mimetype": "text/x-python",
   "name": "python",
   "nbconvert_exporter": "python",
   "pygments_lexer": "ipython3",
   "version": "3.11.13"
  }
 },
 "nbformat": 4,
 "nbformat_minor": 5
}
